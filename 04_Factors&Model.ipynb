{
 "cells": [
  {
   "cell_type": "markdown",
   "id": "efe67b20",
   "metadata": {},
   "source": [
    "## Variables of interest and model\n",
    "\n",
    "In this section we will analyze selected characteristics from the listed sites available in the *listings* dataframe and if they hold any relationship with the price listed on the same table."
   ]
  },
  {
   "cell_type": "code",
   "execution_count": 1,
   "id": "669e2351",
   "metadata": {},
   "outputs": [],
   "source": [
    "import pandas as pd\n",
    "import numpy as np\n",
    "from sklearn.linear_model import LinearRegression\n",
    "from sklearn.model_selection import train_test_split\n",
    "from sklearn.metrics import r2_score, mean_squared_error\n",
    "import matplotlib.pyplot as plt\n",
    "import seaborn as sns\n",
    "%matplotlib inline\n",
    "\n",
    "listings_df = pd.read_csv('./boston_airbnb/listings.csv')\n",
    "\n",
    "# Fix format and data type of the price column\n",
    "listings_df['price'] = listings_df['price'].str[1:]\n",
    "listings_df['price'] = listings_df['price'].str.replace(',','')\n",
    "listings_df['price'] = pd.to_numeric(listings_df['price'])"
   ]
  },
  {
   "cell_type": "markdown",
   "id": "b260f37b",
   "metadata": {},
   "source": [
    "We have some features of the properties that can be measured numerically, namely :\n",
    "\n",
    "1. Number of people fitting in the place\n",
    "2. Number of bathrooms\n",
    "3. Number of bedrooms\n",
    "4. Number of beds\n",
    "\n",
    "We will isolate these to later study their influence on the price offered for the rental. All the features have missing data, so to address this, we will impute the mean for each of the columns."
   ]
  },
  {
   "cell_type": "code",
   "execution_count": 2,
   "id": "9ed8830d",
   "metadata": {},
   "outputs": [],
   "source": [
    "# Isolate numeric variables of interest\n",
    "numeric_vars_df = listings_df[['id','accommodates','bathrooms','bedrooms','beds']].copy()\n",
    "\n",
    "# Impute column mean to missing values\n",
    "fill_mean = lambda col: col.fillna(col.mean())\n",
    "numeric_vars_df = numeric_vars_df.apply(fill_mean)"
   ]
  },
  {
   "cell_type": "markdown",
   "id": "cce76f0f",
   "metadata": {},
   "source": [
    "Now we will see if there is any linear relationship between these numeric variables using a correlation matrix. We will add the price to the analysis."
   ]
  },
  {
   "cell_type": "code",
   "execution_count": 3,
   "id": "76f24df8",
   "metadata": {},
   "outputs": [
    {
     "data": {
      "image/png": "[encoded data removed]",
      "text/plain": [
       "<Figure size 432x288 with 2 Axes>"
      ]
     },
     "metadata": {
      "needs_background": "light"
     },
     "output_type": "display_data"
    }
   ],
   "source": [
    "numeric_vars_df_corr = listings_df[['price','accommodates','bathrooms','bedrooms','beds']].copy()\n",
    "sns.heatmap(numeric_vars_df_corr.corr(), annot=True, fmt=\".2f\");"
   ]
  },
  {
   "cell_type": "markdown",
   "id": "bb9b04fe",
   "metadata": {},
   "source": [
    "We will build a linear model using only numeric variables. We will test the values predicted by the model against the actual ones in order to get a correlation coefficient."
   ]
  },
  {
   "cell_type": "code",
   "execution_count": 22,
   "id": "4c7e42a2",
   "metadata": {},
   "outputs": [],
   "source": [
    "#Define a function for obtaining r2\n",
    "def model_score(X_input,y_input):\n",
    "    X = X_input\n",
    "    y = y_input\n",
    "    \n",
    "    X_train, X_test, y_train, y_test = train_test_split(X, y, test_size = .30, random_state=42)\n",
    "    \n",
    "    #Instantiate\n",
    "    lm_model = LinearRegression(normalize=True)\n",
    "    \n",
    "    #Fit\n",
    "    lm_model.fit(X_train, y_train) \n",
    "    \n",
    "    # Score\n",
    "    y_test_preds = lm_model.predict(X_test)\n",
    "    score = r2_score(y_test, y_test_preds)\n",
    "    \n",
    "    return score"
   ]
  },
  {
   "cell_type": "code",
   "execution_count": 23,
   "id": "97c1ab8d",
   "metadata": {},
   "outputs": [
    {
     "data": {
      "text/plain": [
       "0.1694187521637126"
      ]
     },
     "execution_count": 23,
     "metadata": {},
     "output_type": "execute_result"
    }
   ],
   "source": [
    "#Obtain score for the first model\n",
    "model_score(numeric_vars_df.drop('id', axis = 1),listings_df['price'])"
   ]
  },
  {
   "cell_type": "markdown",
   "id": "84a47747",
   "metadata": {},
   "source": [
    "In order to improve the correlation coefficient, we will add categorical variables describing some of the properties' and hosts' features. There are also missing items within the categorical variables, so we will impute the mode to those cases."
   ]
  },
  {
   "cell_type": "code",
   "execution_count": 25,
   "id": "11e2072c",
   "metadata": {},
   "outputs": [],
   "source": [
    "# Retrieve categorical variables\n",
    "categorical_vars_df = listings_df[['id',\n",
    "                                   'host_has_profile_pic',\n",
    "                                   'host_identity_verified',\n",
    "                                   'neighbourhood_cleansed',\n",
    "                                   'property_type',\n",
    "                                   'bed_type'\n",
    "                                  ]].copy()\n",
    "\n",
    "# Impute mode\n",
    "fill_mode = lambda col: col.fillna(col.mode())\n",
    "categorical_vars_df = categorical_vars_df.apply(fill_mode)"
   ]
  },
  {
   "cell_type": "markdown",
   "id": "29c3b0e2",
   "metadata": {},
   "source": [
    "We will merge numeric and non numeric features in a single table, then we will dummy the categorical variables in order to build the improved model"
   ]
  },
  {
   "cell_type": "code",
   "execution_count": 26,
   "id": "b991ca1a",
   "metadata": {},
   "outputs": [],
   "source": [
    "# Merge tables on id\n",
    "interest_variables_df = numeric_vars_df.merge(categorical_vars_df, how='inner', on='id')\n",
    "\n",
    "# Dummy categorical variables\n",
    "interest_variables_df_dummies = pd.get_dummies(interest_variables_df)"
   ]
  },
  {
   "cell_type": "markdown",
   "id": "5d6aac66",
   "metadata": {},
   "source": [
    "Now we will crete and score a new model which incorporates the effect of the categorical variables and print the obtained correlation coefficient using our model_score function"
   ]
  },
  {
   "cell_type": "code",
   "execution_count": 27,
   "id": "c5cf4ae2",
   "metadata": {},
   "outputs": [
    {
     "data": {
      "text/plain": [
       "0.2604727739675675"
      ]
     },
     "execution_count": 27,
     "metadata": {},
     "output_type": "execute_result"
    }
   ],
   "source": [
    "#Obtain score for the second model\n",
    "model_score(interest_variables_df_dummies.drop('id', axis=1),listings_df['price'])"
   ]
  }
 ],
 "metadata": {
  "kernelspec": {
   "display_name": "Python 3 (ipykernel)",
   "language": "python",
   "name": "python3"
  },
  "language_info": {
   "codemirror_mode": {
    "name": "ipython",
    "version": 3
   },
   "file_extension": ".py",
   "mimetype": "text/x-python",
   "name": "python",
   "nbconvert_exporter": "python",
   "pygments_lexer": "ipython3",
   "version": "3.9.7"
  }
 },
 "nbformat": 4,
 "nbformat_minor": 5
}
